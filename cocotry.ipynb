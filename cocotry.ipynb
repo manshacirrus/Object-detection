{
  "nbformat": 4,
  "nbformat_minor": 0,
  "metadata": {
    "colab": {
      "provenance": [],
      "authorship_tag": "ABX9TyN88ZLlBHiOhcUkO5luuQv9",
      "include_colab_link": true
    },
    "kernelspec": {
      "name": "python3",
      "display_name": "Python 3"
    },
    "language_info": {
      "name": "python"
    }
  },
  "cells": [
    {
      "cell_type": "markdown",
      "metadata": {
        "id": "view-in-github",
        "colab_type": "text"
      },
      "source": [
        "<a href=\"https://colab.research.google.com/github/manshacirrus/Object-detection/blob/main/cocotry.ipynb\" target=\"_parent\"><img src=\"https://colab.research.google.com/assets/colab-badge.svg\" alt=\"Open In Colab\"/></a>"
      ]
    },
    {
      "cell_type": "code",
      "execution_count": 10,
      "metadata": {
        "colab": {
          "base_uri": "https://localhost:8080/"
        },
        "id": "FnSsyEhUOyEq",
        "outputId": "37f8ca0f-470f-46a9-91f6-1f784e899587"
      },
      "outputs": [
        {
          "output_type": "stream",
          "name": "stdout",
          "text": [
            "Detected remote with confidence 0.998 at location [40.16, 70.81, 175.55, 117.98]\n",
            "Detected remote with confidence 0.996 at location [333.24, 72.55, 368.33, 187.66]\n",
            "Detected couch with confidence 0.995 at location [-0.02, 1.15, 639.73, 473.76]\n",
            "Detected cat with confidence 0.999 at location [13.24, 52.05, 314.02, 470.93]\n",
            "Detected cat with confidence 0.999 at location [345.4, 23.85, 640.37, 368.72]\n"
          ]
        }
      ],
      "source": [
        "\n",
        "from transformers import DetrImageProcessor, DetrForObjectDetection\n",
        "import torch\n",
        "from PIL import Image\n",
        "import requests\n",
        "#\n",
        "url = \"http://images.cocodataset.org/val2017/000000039769.jpg\"\n",
        "image = Image.open(requests.get(url, stream=True).raw)\n",
        "#\n",
        "# # you can specify the revision tag if you don't want the timm dependency\n",
        "processor = DetrImageProcessor.from_pretrained(\"facebook/detr-resnet-50\", revision=\"no_timm\")\n",
        "model = DetrForObjectDetection.from_pretrained(\"facebook/detr-resnet-50\", revision=\"no_timm\")\n",
        "#\n",
        "inputs = processor(images=image, return_tensors=\"pt\")\n",
        "outputs = model(**inputs)\n",
        "#\n",
        "# # convert outputs (bounding boxes and class logits) to COCO API\n",
        "# # let's only keep detections with score > 0.9\n",
        "target_sizes = torch.tensor([image.size[::-1]])\n",
        "results = processor.post_process_object_detection(outputs, target_sizes=target_sizes, threshold=0.9)[0]\n",
        "#\n",
        "for score, label, box in zip(results[\"scores\"], results[\"labels\"], results[\"boxes\"]):\n",
        "   box = [round(i, 2) for i in box.tolist()]\n",
        "   print(\n",
        "             f\"Detected {model.config.id2label[label.item()]} with confidence \"\n",
        "             f\"{round(score.item(), 3)} at location {box}\"\n",
        "     )"
      ]
    }
  ]
}